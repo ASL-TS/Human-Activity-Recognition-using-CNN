{
  "nbformat": 4,
  "nbformat_minor": 0,
  "metadata": {
    "colab": {
      "name": "Loading Data from CSV as TF Data.ipynb",
      "provenance": [],
      "toc_visible": true,
      "mount_file_id": "1qQetyMGst0_zoL_Bj7QKPdHIl_2jBXG3",
      "authorship_tag": "ABX9TyPItD0VTawxYuG2IqDIKbBO",
      "include_colab_link": true
    },
    "kernelspec": {
      "name": "python3",
      "display_name": "Python 3"
    },
    "language_info": {
      "name": "python"
    }
  },
  "cells": [
    {
      "cell_type": "markdown",
      "metadata": {
        "id": "view-in-github",
        "colab_type": "text"
      },
      "source": [
        "<a href=\"https://colab.research.google.com/github/ASL-TS/Human-Activity-Recognition-using-CNN/blob/basic-nn-from-csv/Loading_Data_from_CSV_as_TF_Data.ipynb\" target=\"_parent\"><img src=\"https://colab.research.google.com/assets/colab-badge.svg\" alt=\"Open In Colab\"/></a>"
      ]
    },
    {
      "cell_type": "markdown",
      "metadata": {
        "id": "TTCgLI-quoEZ"
      },
      "source": [
        "# Custom Training of a Model"
      ]
    },
    {
      "cell_type": "code",
      "metadata": {
        "id": "GwWq4ltsHj4L",
        "colab": {
          "base_uri": "https://localhost:8080/"
        },
        "outputId": "80942943-c10e-4973-dd1f-02b1509943c4"
      },
      "source": [
        "import pandas as pd\n",
        "import numpy as np\n",
        "\n",
        "# Make numpy values easier to read.\n",
        "np.set_printoptions(precision=3, suppress=True)\n",
        "\n",
        "import matplotlib.pyplot as plt\n",
        "\n",
        "import tensorflow as tf\n",
        "from tensorflow.keras import layers\n",
        "from tensorflow.keras.layers.experimental import preprocessing\n",
        "print(\"TensorFlow version: {}\".format(tf.__version__))\n",
        "print(\"Eager execution: {}\".format(tf.executing_eagerly()))"
      ],
      "execution_count": null,
      "outputs": [
        {
          "output_type": "stream",
          "text": [
            "TensorFlow version: 2.4.1\n",
            "Eager execution: True\n"
          ],
          "name": "stdout"
        }
      ]
    },
    {
      "cell_type": "code",
      "metadata": {
        "id": "rQZ1TcfzViBj"
      },
      "source": [
        "TRAINING_DATA_PATH = '/content/drive/MyDrive/COLLEGE/College\\ 3rd\\ Year/Senior\\ Design/Machine\\ Learning/Learning/training_tf.csv'\n",
        "TRAINING_DATA_PATH_MODDED = '/content/drive/MyDrive/COLLEGE/College\\ 3rd\\ Year/Senior\\ Design/Machine\\ Learning/Learning/training_tf_features_0_to_2.csv'\n",
        "TEST_DATA_PATH_MODDED = '/content/drive/MyDrive/COLLEGE/College\\ 3rd\\ Year/Senior\\ Design/Machine\\ Learning/Learning/test_tf_features_0_to_2.csv'\n",
        "\n",
        "TEST_DATA_PATH = '/content/drive/MyDrive/COLLEGE/College\\ 3rd\\ Year/Senior\\ Design/Machine\\ Learning/Learning/test_tf.csv'\n"
      ],
      "execution_count": null,
      "outputs": []
    },
    {
      "cell_type": "code",
      "metadata": {
        "id": "FQvb_JYdrpPm",
        "colab": {
          "base_uri": "https://localhost:8080/"
        },
        "outputId": "df2744b1-98b6-444b-ed3c-e858e85a33bc"
      },
      "source": [
        "!head -n5 {TEST_DATA_PATH_MODDED}"
      ],
      "execution_count": null,
      "outputs": [
        {
          "output_type": "stream",
          "text": [
            "39.99,-123.62,-5.66,-12.3,-4.43,-11.19,-4.06,12.33,-4.44,11.51,0\r\n",
            "39.95,-123.52,-10.93,-23.94,-8.47,-21.69,-7.77,175.92,-8.54,164.5,0\r\n",
            "39.88,-123.43,-15.9,-34.6,-12.23,-31.38,-11.12,176,-12.37,164.66,0\r\n",
            "39.81,-122.85,-20.44,-172.57,-15.69,-159.28,-14.31,176.09,-15.91,164.84,0\r\n",
            "39.7,-122.73,-24.61,-172.61,-18.88,-159.27,-17.31,177.35,-19.17,167.17,0\r\n"
          ],
          "name": "stdout"
        }
      ]
    },
    {
      "cell_type": "code",
      "metadata": {
        "id": "tpi0Dt8iQDQy",
        "colab": {
          "base_uri": "https://localhost:8080/"
        },
        "outputId": "146e19a3-524c-4d63-f8cb-9bf8cb5eaa5f"
      },
      "source": [
        "column_names = [\"TR\", \"TP\", \"IR\", \"IP\", \"MR\", \"MP\", \"RR\",\"RP\",\"PR\",\"PP\", \"Letter\"]\n",
        "feature_names = column_names[:-1]\n",
        "label_name = column_names[-1]\n",
        "batch_size = 32\n",
        "\n",
        "print(\"Features: {}\".format(feature_names))\n",
        "print(\"Label: {}\".format(label_name))\n",
        "\n"
      ],
      "execution_count": null,
      "outputs": [
        {
          "output_type": "stream",
          "text": [
            "Features: ['TR', 'TP', 'IR', 'IP', 'MR', 'MP', 'RR', 'RP', 'PR', 'PP']\n",
            "Label: Letter\n"
          ],
          "name": "stdout"
        }
      ]
    },
    {
      "cell_type": "code",
      "metadata": {
        "id": "jDw6ZkYApNfA"
      },
      "source": [
        "class_names = ['A','B','C']"
      ],
      "execution_count": null,
      "outputs": []
    },
    {
      "cell_type": "code",
      "metadata": {
        "id": "YW5PCG3cU0eI"
      },
      "source": [
        "train_dataset = tf.data.experimental.make_csv_dataset(\n",
        "    TRAINING_DATA_PATH_MODDED,\n",
        "    batch_size,\n",
        "    column_names=column_names,\n",
        "    label_name=label_name,\n",
        "    num_epochs=1 \n",
        ")\n"
      ],
      "execution_count": null,
      "outputs": []
    },
    {
      "cell_type": "code",
      "metadata": {
        "colab": {
          "base_uri": "https://localhost:8080/"
        },
        "id": "HMbYFso2paRm",
        "outputId": "25045712-d463-455b-e98e-75034ee1894d"
      },
      "source": [
        "features,labels = next(iter(train_dataset))\n",
        "print(features)"
      ],
      "execution_count": null,
      "outputs": [
        {
          "output_type": "stream",
          "text": [
            "OrderedDict([('TR', <tf.Tensor: shape=(32,), dtype=float32, numpy=\n",
            "array([ 3.12,  3.93, 32.36, 49.15, 48.01, 43.33,  0.02,  3.25, -0.98,\n",
            "       32.33, 49.89,  4.54, 48.13, 33.24, -2.2 ,  3.93, 32.53,  4.36,\n",
            "       -0.58, 49.6 ,  4.13, 51.1 , 43.66, 33.87, 43.52,  2.45,  4.55,\n",
            "       32.63,  1.04,  5.78, 41.64, 48.97], dtype=float32)>), ('TP', <tf.Tensor: shape=(32,), dtype=float32, numpy=\n",
            "array([ -50.67,  -51.71,  -93.73, -121.51, -112.6 , -124.94,  -49.11,\n",
            "        -50.4 ,  -50.34,  -93.83, -135.06,  -52.27, -112.45,  -98.65,\n",
            "        -50.08,  -51.63,  -93.62,  -52.12,  -50.45, -113.21,  -51.95,\n",
            "       -128.73, -124.47,  -88.5 , -117.56,  -46.79,  -51.91,  -93.65,\n",
            "        -50.57,  -48.08, -113.  , -113.55], dtype=float32)>), ('IR', <tf.Tensor: shape=(32,), dtype=float32, numpy=\n",
            "array([ 53.94,  54.66,   0.69, -65.28, -64.28, -56.05,  54.  ,  53.39,\n",
            "        51.41,   0.65, -65.97,  52.39, -64.36,   4.29,  51.68,  54.74,\n",
            "         0.59,  53.98,  51.37, -64.38,  54.49, -66.08, -67.7 ,   2.96,\n",
            "       -67.35,  55.48,  54.77,   0.7 ,  53.05,  55.79, -69.65, -64.7 ],\n",
            "      dtype=float32)>), ('IP', <tf.Tensor: shape=(32,), dtype=float32, numpy=\n",
            "array([ -8.3 ,  -8.01, -19.66, 100.34, 114.52,  92.42,  -1.65,  -7.97,\n",
            "        -2.41, -19.77, 105.77,  -7.93, 114.58, -20.01,  -1.24,  -7.98,\n",
            "       -19.92,  -9.52,  -3.47, 117.74,  -8.56,  95.07, 102.36, -18.12,\n",
            "       103.29,  -8.61,  -9.06, -19.77,  -5.33, -12.11, 106.24, 120.81],\n",
            "      dtype=float32)>), ('MR', <tf.Tensor: shape=(32,), dtype=float32, numpy=\n",
            "array([ 49.7 ,  50.8 ,  -9.31, -49.63, -49.43, -44.81,  49.69,  48.96,\n",
            "        45.48,  -9.46, -49.89,  49.28, -49.49,  -2.95,  45.81,  51.  ,\n",
            "        -9.23,  50.06,  45.58, -48.94,  50.85, -50.64, -54.31,  -4.97,\n",
            "       -53.71,  52.01,  51.23,  -9.27,  47.96,  52.16, -54.15, -49.23],\n",
            "      dtype=float32)>), ('MP', <tf.Tensor: shape=(32,), dtype=float32, numpy=\n",
            "array([  50.6 ,   52.45,   37.6 , -179.01, -174.02,  173.14,   56.17,\n",
            "         50.35,   54.87,   37.38,  176.05,   50.09, -173.7 ,   36.43,\n",
            "         56.58,   52.57,   37.19,   49.76,   53.91, -172.58,   52.16,\n",
            "        166.53,  178.71,   38.93,  178.58,   53.68,   52.  ,   37.37,\n",
            "         53.44,   49.45,  165.84, -170.18], dtype=float32)>), ('RR', <tf.Tensor: shape=(32,), dtype=float32, numpy=\n",
            "array([ 57.36,  57.75,  -9.84, -53.08, -52.9 , -48.85,  58.13,  56.64,\n",
            "        53.86, -10.13, -53.62,  56.12, -52.92,  -3.05,  54.51,  57.94,\n",
            "        -9.77,  57.52,  54.15, -52.29,  57.77, -54.5 , -58.6 ,  -5.  ,\n",
            "       -58.12,  60.88,  58.04,  -9.68,  56.08,  60.16, -58.12, -52.48],\n",
            "      dtype=float32)>), ('RP', <tf.Tensor: shape=(32,), dtype=float32, numpy=\n",
            "array([ 44.34,  44.86,  11.51, 127.59, 135.42, 120.3 ,  51.82,  43.89,\n",
            "        49.68,  11.48, 123.64,  42.87, 134.34,  11.8 ,  52.24,  45.01,\n",
            "        11.26,  43.15,  48.4 , 136.43,  44.44, 112.11, 127.15,  14.54,\n",
            "       126.84,  47.06,  44.02,  11.41,  47.83,  42.88, 137.71, 138.17],\n",
            "      dtype=float32)>), ('PR', <tf.Tensor: shape=(32,), dtype=float32, numpy=\n",
            "array([ 51.79,  53.18,  15.66, -45.88, -46.23, -40.4 ,  52.35,  51.19,\n",
            "        48.51,  15.38, -46.42,  52.04, -46.21,  21.29,  48.63,  53.37,\n",
            "        15.59,  52.24,  48.72, -46.15,  53.2 , -46.21, -49.51,  19.18,\n",
            "       -49.01,  54.  ,  53.37,  15.66,  49.49,  53.68, -46.61, -46.51],\n",
            "      dtype=float32)>), ('PP', <tf.Tensor: shape=(32,), dtype=float32, numpy=\n",
            "array([ 91.31,  91.45,  62.75, 129.26, 133.86, 122.78,  98.05,  92.08,\n",
            "        96.86,  62.65, 130.75,  86.49, 133.36,  61.3 ,  99.5 ,  91.38,\n",
            "        62.73,  89.87,  96.02, 135.8 ,  91.16, 118.46, 127.12,  68.36,\n",
            "       127.64,  99.24,  90.7 ,  62.95,  96.06,  90.14, 130.  , 136.85],\n",
            "      dtype=float32)>)])\n"
          ],
          "name": "stdout"
        }
      ]
    },
    {
      "cell_type": "code",
      "metadata": {
        "id": "EeCYQYIDi0To"
      },
      "source": [
        "# print('length of list of train dataset ' + str(len(list(train_dataset))))\n",
        "# num_of_entries = 0\n",
        "# for x in train_dataset:\n",
        "#   num_of_entries += x[0].shape[0]\n",
        "\n",
        "# print(num_of_entries)"
      ],
      "execution_count": null,
      "outputs": []
    },
    {
      "cell_type": "markdown",
      "metadata": {
        "id": "GAR9jQnjJ6eE"
      },
      "source": [
        "In the following graph we can see that from the three letters in the dataset ``A,B,C`` the ``Index Pitch`` and ``Index Roll`` is pretty distinct for all three letters and we can see how they cluster in the graph"
      ]
    },
    {
      "cell_type": "code",
      "metadata": {
        "id": "me5Wn-9FcyyO",
        "colab": {
          "base_uri": "https://localhost:8080/",
          "height": 279
        },
        "outputId": "d76614f7-cb01-460a-ea22-5911dd85dedf"
      },
      "source": [
        "plt.scatter(features['IR'],\n",
        "            features['IP'],\n",
        "            c=labels,\n",
        "            cmap='viridis')\n",
        "\n",
        "plt.xlabel(\"IR\")\n",
        "plt.ylabel(\"IP\")\n",
        "plt.show()"
      ],
      "execution_count": null,
      "outputs": [
        {
          "output_type": "display_data",
          "data": {
            "image/png": "[encoded data removed]",
            "text/plain": [
              "<Figure size 432x288 with 1 Axes>"
            ]
          },
          "metadata": {
            "tags": [],
            "needs_background": "light"
          }
        }
      ]
    },
    {
      "cell_type": "code",
      "metadata": {
        "id": "q0fT9RsApuYb"
      },
      "source": [
        "def pack_features_vector(features, labels):\n",
        "  \"\"\"Pack the features into a single array.\"\"\"\n",
        "  features = tf.stack(list(features.values()), axis=1)\n",
        "  return features, labels"
      ],
      "execution_count": null,
      "outputs": []
    },
    {
      "cell_type": "code",
      "metadata": {
        "id": "5_IF7AM6pw__",
        "colab": {
          "base_uri": "https://localhost:8080/"
        },
        "outputId": "09cadeb8-30f0-4c76-b08a-b67384766acf"
      },
      "source": [
        "# train_dataset.map(pack_features_vector)\n",
        "print(train_dataset)\n",
        "train_dataset = train_dataset.map(pack_features_vector)\n",
        "print(train_dataset)"
      ],
      "execution_count": null,
      "outputs": [
        {
          "output_type": "stream",
          "text": [
            "<PrefetchDataset shapes: (OrderedDict([(TR, (None,)), (TP, (None,)), (IR, (None,)), (IP, (None,)), (MR, (None,)), (MP, (None,)), (RR, (None,)), (RP, (None,)), (PR, (None,)), (PP, (None,))]), (None,)), types: (OrderedDict([(TR, tf.float32), (TP, tf.float32), (IR, tf.float32), (IP, tf.float32), (MR, tf.float32), (MP, tf.float32), (RR, tf.float32), (RP, tf.float32), (PR, tf.float32), (PP, tf.float32)]), tf.int32)>\n",
            "<MapDataset shapes: ((None, 10), (None,)), types: (tf.float32, tf.int32)>\n"
          ],
          "name": "stdout"
        }
      ]
    },
    {
      "cell_type": "code",
      "metadata": {
        "colab": {
          "base_uri": "https://localhost:8080/"
        },
        "id": "VS9TSrLUp0Cq",
        "outputId": "efe18e98-4f36-4852-89bd-e96f6f680961"
      },
      "source": [
        "features, labels = next(iter(train_dataset))\n",
        "print(labels[:5])\n"
      ],
      "execution_count": null,
      "outputs": [
        {
          "output_type": "stream",
          "text": [
            "tf.Tensor([0 1 0 2 2], shape=(5,), dtype=int32)\n"
          ],
          "name": "stdout"
        }
      ]
    },
    {
      "cell_type": "code",
      "metadata": {
        "id": "626Bdh2wp_cN"
      },
      "source": [
        "model = tf.keras.Sequential([\n",
        "  tf.keras.layers.Dense(10, activation=tf.nn.relu, input_shape=(10,)),  # input shape required\n",
        "  tf.keras.layers.Dense(10, activation=tf.nn.relu),\n",
        "  tf.keras.layers.Dense(3)\n",
        "])"
      ],
      "execution_count": null,
      "outputs": []
    },
    {
      "cell_type": "code",
      "metadata": {
        "colab": {
          "base_uri": "https://localhost:8080/"
        },
        "id": "2e3LtgtNqEMo",
        "outputId": "965d3d3d-abab-4838-c1db-c5e473d4417e"
      },
      "source": [
        "predictions = model(features)\n",
        "predictions[:5]\n"
      ],
      "execution_count": null,
      "outputs": [
        {
          "output_type": "execute_result",
          "data": {
            "text/plain": [
              "<tf.Tensor: shape=(5, 3), dtype=float32, numpy=\n",
              "array([[-16.442,   0.851,  26.801],\n",
              "       [-13.247,  24.803,  33.229],\n",
              "       [-16.24 ,   1.268,  26.861],\n",
              "       [ -7.546,  25.73 ,  29.889],\n",
              "       [ -7.515,  25.683,  29.888]], dtype=float32)>"
            ]
          },
          "metadata": {
            "tags": []
          },
          "execution_count": 397
        }
      ]
    },
    {
      "cell_type": "code",
      "metadata": {
        "colab": {
          "base_uri": "https://localhost:8080/"
        },
        "id": "Zg9kHYlAqQpI",
        "outputId": "482e7fa9-12cf-4810-bf00-941419cdf638"
      },
      "source": [
        "print(tf.nn.softmax(predictions[:5]))"
      ],
      "execution_count": null,
      "outputs": [
        {
          "output_type": "stream",
          "text": [
            "tf.Tensor(\n",
            "[[0.    0.    1.   ]\n",
            " [0.    0.    1.   ]\n",
            " [0.    0.    1.   ]\n",
            " [0.    0.015 0.985]\n",
            " [0.    0.015 0.985]], shape=(5, 3), dtype=float32)\n"
          ],
          "name": "stdout"
        }
      ]
    },
    {
      "cell_type": "code",
      "metadata": {
        "colab": {
          "base_uri": "https://localhost:8080/"
        },
        "id": "DYMtystdqUq9",
        "outputId": "0cba308a-a7fb-4e24-86be-6ac9e4ea8f12"
      },
      "source": [
        "print(\"Prediction: {}\".format(tf.argmax(predictions, axis=1)))\n",
        "print(\"    Labels: {}\".format(labels))"
      ],
      "execution_count": null,
      "outputs": [
        {
          "output_type": "stream",
          "text": [
            "Prediction: [2 2 2 2 2 2 2 2 2 2 2 2 2 2 2 2 2 2 2 2 2 2 2 2 2 2 2 2 2 2 2 2]\n",
            "    Labels: [0 1 0 2 2 2 1 2 1 2 0 0 0 1 1 2 1 1 1 0 1 2 2 0 1 0 1 1 1 2 0 1]\n"
          ],
          "name": "stdout"
        }
      ]
    },
    {
      "cell_type": "code",
      "metadata": {
        "colab": {
          "base_uri": "https://localhost:8080/"
        },
        "id": "hNY_x_ccsXcX",
        "outputId": "141a4df3-1b60-4c14-c03c-8e4f29169ffc"
      },
      "source": [
        "loss_object = tf.keras.losses.SparseCategoricalCrossentropy(from_logits=True)\n",
        "def loss(model, x, y, training):\n",
        "  # training=training is needed only if there are layers with different\n",
        "  # behavior during training versus inference (e.g. Dropout).\n",
        "  y_ = model(x, training=training)\n",
        "\n",
        "  return loss_object(y_true=y, y_pred=y_)\n",
        "\n",
        "\n",
        "l = loss(model, features, labels, training=False)\n",
        "print(\"Loss test: {}\".format(l))"
      ],
      "execution_count": null,
      "outputs": [
        {
          "output_type": "stream",
          "text": [
            "Loss test: 17.913822174072266\n"
          ],
          "name": "stdout"
        }
      ]
    },
    {
      "cell_type": "code",
      "metadata": {
        "id": "x57HcKWhKkei"
      },
      "source": [
        "def grad(model, inputs, targets):\n",
        "  with tf.GradientTape() as tape:\n",
        "    loss_value = loss(model, inputs, targets, training=True)\n",
        "  return loss_value, tape.gradient(loss_value, model.trainable_variables)"
      ],
      "execution_count": null,
      "outputs": []
    },
    {
      "cell_type": "code",
      "metadata": {
        "id": "8xxi2NNGKwG_"
      },
      "source": [
        "optimizer = tf.keras.optimizers.SGD(learning_rate=0.01)"
      ],
      "execution_count": null,
      "outputs": []
    },
    {
      "cell_type": "code",
      "metadata": {
        "id": "rxRNTFVe56RG",
        "colab": {
          "base_uri": "https://localhost:8080/"
        },
        "outputId": "0ad02cb8-eb00-4f48-9a5a-4a5a0b11d19d"
      },
      "source": [
        "loss_value, grads = grad(model, features, labels)\n",
        "\n",
        "print(\"Step: {}, Initial Loss: {}\".format(optimizer.iterations.numpy(),\n",
        "                                          loss_value.numpy()))\n",
        "\n",
        "optimizer.apply_gradients(zip(grads, model.trainable_variables))\n",
        "\n",
        "print(\"Step: {},         Loss: {}\".format(optimizer.iterations.numpy(),\n",
        "                                          loss(model, features, labels, training=True).numpy()))"
      ],
      "execution_count": null,
      "outputs": [
        {
          "output_type": "stream",
          "text": [
            "Step: 0, Initial Loss: 17.913822174072266\n",
            "Step: 1,         Loss: 25.193370819091797\n"
          ],
          "name": "stdout"
        }
      ]
    },
    {
      "cell_type": "code",
      "metadata": {
        "id": "AIgulGRUhpto",
        "colab": {
          "base_uri": "https://localhost:8080/"
        },
        "outputId": "20b890a7-559c-4a55-eb3e-58bb2fd06c1e"
      },
      "source": [
        "## Note: Rerunning this cell uses the same model variables\n",
        "\n",
        "# Keep results for plotting\n",
        "train_loss_results = []\n",
        "train_accuracy_results = []\n",
        "\n",
        "num_epochs = 101\n",
        "\n",
        "for epoch in range(num_epochs):\n",
        "  epoch_loss_avg = tf.keras.metrics.Mean()\n",
        "  epoch_accuracy = tf.keras.metrics.SparseCategoricalAccuracy()\n",
        "\n",
        "  # Training loop - using batches of 32\n",
        "  for x, y in train_dataset:\n",
        "    # Optimize the model\n",
        "    loss_value, grads = grad(model, x, y)\n",
        "    optimizer.apply_gradients(zip(grads, model.trainable_variables))\n",
        "\n",
        "    # Track progress\n",
        "    epoch_loss_avg.update_state(loss_value)  # Add current batch loss\n",
        "    # Compare predicted label to actual label\n",
        "    # training=True is needed only if there are layers with different\n",
        "    # behavior during training versus inference (e.g. Dropout).\n",
        "    epoch_accuracy.update_state(y, model(x, training=True))\n",
        "\n",
        "  # End epoch\n",
        "  train_loss_results.append(epoch_loss_avg.result())\n",
        "  train_accuracy_results.append(epoch_accuracy.result())\n",
        "\n",
        "  if epoch % 50 == 0:\n",
        "    print(\"Epoch {:03d}: Loss: {:.3f}, Accuracy: {:.3%}\".format(epoch,\n",
        "                                                                epoch_loss_avg.result(),\n",
        "                                                                epoch_accuracy.result()))"
      ],
      "execution_count": null,
      "outputs": [
        {
          "output_type": "stream",
          "text": [
            "Epoch 000: Loss: 0.463, Accuracy: 98.401%\n",
            "Epoch 050: Loss: 0.000, Accuracy: 100.000%\n",
            "Epoch 100: Loss: 0.000, Accuracy: 100.000%\n"
          ],
          "name": "stdout"
        }
      ]
    },
    {
      "cell_type": "code",
      "metadata": {
        "id": "agjvNd2iUGFn",
        "colab": {
          "base_uri": "https://localhost:8080/",
          "height": 558
        },
        "outputId": "9562614b-603f-4623-923a-e66ca831b3cf"
      },
      "source": [
        "fig, axes = plt.subplots(2, sharex=True, figsize=(12, 8))\n",
        "fig.suptitle('Training Metrics')\n",
        "\n",
        "axes[0].set_ylabel(\"Loss\", fontsize=14)\n",
        "axes[0].plot(train_loss_results)\n",
        "\n",
        "axes[1].set_ylabel(\"Accuracy\", fontsize=14)\n",
        "axes[1].set_xlabel(\"Epoch\", fontsize=14)\n",
        "axes[1].plot(train_accuracy_results)\n",
        "plt.show()"
      ],
      "execution_count": null,
      "outputs": [
        {
          "output_type": "display_data",
          "data": {
            "image/png": "[encoded data removed]",
            "text/plain": [
              "<Figure size 864x576 with 2 Axes>"
            ]
          },
          "metadata": {
            "tags": [],
            "needs_background": "light"
          }
        }
      ]
    },
    {
      "cell_type": "code",
      "metadata": {
        "id": "rH9oZum_-TNd"
      },
      "source": [
        "test_dataset = tf.data.experimental.make_csv_dataset(\n",
        "    TEST_DATA_PATH_MODDED,\n",
        "    batch_size,\n",
        "    column_names=column_names,\n",
        "    label_name='Letter',\n",
        "    num_epochs=1,\n",
        "    shuffle=False)\n",
        "\n",
        "test_dataset = test_dataset.map(pack_features_vector)"
      ],
      "execution_count": null,
      "outputs": []
    },
    {
      "cell_type": "code",
      "metadata": {
        "id": "Tw03-MK1cYId",
        "colab": {
          "base_uri": "https://localhost:8080/"
        },
        "outputId": "d6f0738a-1059-450f-9983-0dfe182df645"
      },
      "source": [
        "test_accuracy = tf.keras.metrics.Accuracy()\n",
        "\n",
        "for (x, y) in test_dataset:\n",
        "  # training=False is needed only if there are layers with different\n",
        "  # behavior during training versus inference (e.g. Dropout).\n",
        "  logits = model(x, training=False)\n",
        "  prediction = tf.argmax(logits, axis=1, output_type=tf.int32)\n",
        "  test_accuracy(prediction, y)\n",
        "\n",
        "print(\"Test set accuracy: {:.3%}\".format(test_accuracy.result()))"
      ],
      "execution_count": null,
      "outputs": [
        {
          "output_type": "stream",
          "text": [
            "Test set accuracy: 55.619%\n"
          ],
          "name": "stdout"
        }
      ]
    },
    {
      "cell_type": "code",
      "metadata": {
        "id": "uNwt2eMeOane",
        "colab": {
          "base_uri": "https://localhost:8080/"
        },
        "outputId": "0bef66e9-c54a-4ef8-d0af-66d8f962eb95"
      },
      "source": [
        "# tf.stack([y,prediction],axis=1)\n",
        "print(y)\n",
        "print(prediction)"
      ],
      "execution_count": null,
      "outputs": [
        {
          "output_type": "stream",
          "text": [
            "tf.Tensor([2 2 2 2 2 2 2 2 2 2 2 2 2 2 2 2 2 2 2 2 2 2 2], shape=(23,), dtype=int32)\n",
            "tf.Tensor([2 2 2 2 2 2 2 2 2 2 2 2 2 2 2 2 2 2 2 2 2 2 2], shape=(23,), dtype=int32)\n"
          ],
          "name": "stdout"
        }
      ]
    },
    {
      "cell_type": "code",
      "metadata": {
        "id": "kesTS5Lzv-M2",
        "colab": {
          "base_uri": "https://localhost:8080/"
        },
        "outputId": "206dfce8-1edd-4881-8abb-4ab1993918ba"
      },
      "source": [
        "predict_dataset = tf.convert_to_tensor([\n",
        "    [39.99,-123.62,-5.66,-12.3,-4.43,-11.19,-4.06,12.33,-4.44,11.51], #A\n",
        "    [11.11,-25.33,67.49,-24.24,64.54,19.06,64.01,-0.33,63.13,33.2],   #B\n",
        "    [1.33,-107.55,-3.9,-21.71,-19.98,13.58,-17.47,9.02,-3.4,47.38],    #C\n",
        "    [18.67,-21.49,78.84,28.21,69.93,59.55,76.96,38.69,76.55,56.49],\n",
        "    [18.59,-21.59,78.75,29.09,69.82,60.38,76.91,39.52,76.29,57.99],\n",
        "    [18.53,-21.44,78.81,30.85,69.75,61.36,76.92,40.68,75.94,58.88],\n",
        "    [18.44,-21.17,78.83,32.83,69.69,62.29,76.94,41.66,75.71,59.73],\n",
        "    [18.32,-20.82,78.89,33.33,69.62,62.97,77.01,42.19,75.5,60.57],\n",
        "    [18.24,-20.53,78.98,34.66,69.47,63.57,76.68,42.09,74.95,61.24]\n",
        "])\n",
        "\n",
        "\n",
        "# training=False is needed only if there are layers with different\n",
        "# behavior during training versus inference (e.g. Dropout).\n",
        "predictions = model(predict_dataset, training=False)\n",
        "\n",
        "for i, logits in enumerate(predictions):\n",
        "  class_idx = tf.argmax(logits).numpy()\n",
        "  p = tf.nn.softmax(logits)[class_idx]\n",
        "  name = class_names[class_idx]\n",
        "  # print(i,p)\n",
        "  print(\"Example {} prediction: {} ({:4.1f}%)\".format(i, class_idx, 100*p))"
      ],
      "execution_count": null,
      "outputs": [
        {
          "output_type": "stream",
          "text": [
            "Example 0 prediction: 2 (100.0%)\n",
            "Example 1 prediction: 0 (99.0%)\n",
            "Example 2 prediction: 2 (100.0%)\n",
            "Example 3 prediction: 0 (99.8%)\n",
            "Example 4 prediction: 0 (99.8%)\n",
            "Example 5 prediction: 0 (99.8%)\n",
            "Example 6 prediction: 0 (99.8%)\n",
            "Example 7 prediction: 0 (99.8%)\n",
            "Example 8 prediction: 0 (99.7%)\n"
          ],
          "name": "stdout"
        }
      ]
    },
    {
      "cell_type": "markdown",
      "metadata": {
        "id": "QRelCkU1usoU"
      },
      "source": [
        "# Using the Fit and Compile Function"
      ]
    },
    {
      "cell_type": "code",
      "metadata": {
        "colab": {
          "base_uri": "https://localhost:8080/"
        },
        "id": "LxqRUcnjusoW",
        "outputId": "9d8e61ed-ab89-4664-dbd5-9d154d1f00fb"
      },
      "source": [
        "import pandas as pd\n",
        "import numpy as np\n",
        "\n",
        "# Make numpy values easier to read.\n",
        "np.set_printoptions(precision=3, suppress=True)\n",
        "\n",
        "import matplotlib.pyplot as plt\n",
        "\n",
        "import tensorflow as tf\n",
        "from tensorflow.keras import layers\n",
        "from tensorflow.keras.layers.experimental import preprocessing\n",
        "print(\"TensorFlow version: {}\".format(tf.__version__))\n",
        "print(\"Eager execution: {}\".format(tf.executing_eagerly()))"
      ],
      "execution_count": null,
      "outputs": [
        {
          "output_type": "stream",
          "text": [
            "TensorFlow version: 2.4.1\n",
            "Eager execution: True\n"
          ],
          "name": "stdout"
        }
      ]
    },
    {
      "cell_type": "code",
      "metadata": {
        "id": "4rIo1ixNusoX"
      },
      "source": [
        "TRAINING_DATA_PATH = '/content/drive/MyDrive/COLLEGE/College\\ 3rd\\ Year/Senior\\ Design/Machine\\ Learning/Learning/training_tf.csv'\n",
        "TRAINING_DATA_PATH_MODDED = '/content/drive/MyDrive/COLLEGE/College\\ 3rd\\ Year/Senior\\ Design/Machine\\ Learning/Learning/training_tf_features_0_to_2.csv'\n",
        "TEST_DATA_PATH_MODDED = '/content/drive/MyDrive/COLLEGE/College\\ 3rd\\ Year/Senior\\ Design/Machine\\ Learning/Learning/test_tf_features_0_to_2.csv'\n",
        "\n",
        "TEST_DATA_PATH = '/content/drive/MyDrive/COLLEGE/College\\ 3rd\\ Year/Senior\\ Design/Machine\\ Learning/Learning/test_tf.csv'\n"
      ],
      "execution_count": null,
      "outputs": []
    },
    {
      "cell_type": "code",
      "metadata": {
        "colab": {
          "base_uri": "https://localhost:8080/"
        },
        "id": "aA3S6N0AusoY",
        "outputId": "fc571d01-c795-454c-9c82-6e59db243931"
      },
      "source": [
        "!head -n5 {TRAINING_DATA_PATH_MODDED}"
      ],
      "execution_count": null,
      "outputs": [
        {
          "output_type": "stream",
          "text": [
            "42.96,-128.88,-4.87,6.26,-3.89,12.05,-4.25,8.43,-3.53,8.43,0\r\n",
            "42.92,-128.66,-9.26,93.05,-7.42,172.45,-8.15,120.86,-6.78,122.45,0\r\n",
            "42.95,-128.49,-13.45,92.9,-10.78,172.5,-11.78,120.84,-9.8,122.41,0\r\n",
            "42.96,-126.86,-17.3,92.9,-13.87,172.57,-15.15,120.83,-12.61,122.38,0\r\n",
            "42.95,-126.86,-20.93,92.07,-16.76,172.76,-18.3,120.99,-15.23,122.21,0\r\n"
          ],
          "name": "stdout"
        }
      ]
    },
    {
      "cell_type": "code",
      "metadata": {
        "colab": {
          "base_uri": "https://localhost:8080/"
        },
        "id": "6n-_-spzusoY",
        "outputId": "752811b1-7cdc-471a-deec-1168f23f5925"
      },
      "source": [
        "column_names = [\"TR\", \"TP\", \"IR\", \"IP\", \"MR\", \"MP\", \"RR\",\"RP\",\"PR\",\"PP\", \"Letter\"]\n",
        "feature_names = column_names[:-1]\n",
        "label_name = column_names[-1]\n",
        "batch_size = 32\n",
        "\n",
        "print(\"Features: {}\".format(feature_names))\n",
        "print(\"Label: {}\".format(label_name))\n",
        "\n"
      ],
      "execution_count": null,
      "outputs": [
        {
          "output_type": "stream",
          "text": [
            "Features: ['TR', 'TP', 'IR', 'IP', 'MR', 'MP', 'RR', 'RP', 'PR', 'PP']\n",
            "Label: Letter\n"
          ],
          "name": "stdout"
        }
      ]
    },
    {
      "cell_type": "code",
      "metadata": {
        "id": "Xh7OzU4vusoY"
      },
      "source": [
        "class_names = ['A','B','C']"
      ],
      "execution_count": null,
      "outputs": []
    },
    {
      "cell_type": "code",
      "metadata": {
        "id": "RADYF47OusoZ"
      },
      "source": [
        "train_dataset = tf.data.experimental.make_csv_dataset(\n",
        "    TRAINING_DATA_PATH_MODDED,\n",
        "    batch_size,\n",
        "    column_names=column_names,\n",
        "    label_name=label_name,\n",
        "    num_epochs=1 \n",
        ")\n"
      ],
      "execution_count": null,
      "outputs": []
    },
    {
      "cell_type": "code",
      "metadata": {
        "colab": {
          "base_uri": "https://localhost:8080/"
        },
        "id": "DS2qOvequsoZ",
        "outputId": "50c6e11d-b070-4212-bed0-1af4aa0b8fa1"
      },
      "source": [
        "features,labels = next(iter(train_dataset))\n",
        "print(features)"
      ],
      "execution_count": null,
      "outputs": [
        {
          "output_type": "stream",
          "text": [
            "OrderedDict([('TR', <tf.Tensor: shape=(32,), dtype=float32, numpy=\n",
            "array([ 3.33, 32.62, 43.07, 41.11,  4.26, 32.13, 43.85, 32.52, 31.45,\n",
            "       41.67, 30.84, 32.54,  4.62,  3.5 ,  4.85, 44.44, 44.21, 30.67,\n",
            "       33.14, 33.58,  4.42, 46.38, 32.13,  3.89, 41.53,  4.49, -0.1 ,\n",
            "        3.34, 47.72, 42.22,  4.84, 31.87], dtype=float32)>), ('TP', <tf.Tensor: shape=(32,), dtype=float32, numpy=\n",
            "array([ -51.01,  -93.49, -122.59, -119.9 ,  -52.06,  -93.54, -120.49,\n",
            "        -93.31,  -94.75, -124.33,  -94.77,  -99.15,  -52.04,  -51.67,\n",
            "        -52.26, -116.2 , -112.27,  -94.29,  -98.65,  -85.75,  -52.24,\n",
            "       -115.93,  -95.47,  -51.68, -125.05,  -47.52,  -50.49,  -51.65,\n",
            "       -112.96, -113.12,  -52.25,  -93.41], dtype=float32)>), ('IR', <tf.Tensor: shape=(32,), dtype=float32, numpy=\n",
            "array([ 53.98,   0.79, -67.83, -67.5 ,  53.91,   0.63, -67.42,   0.46,\n",
            "         1.46, -66.76,  -0.15,   3.26,  54.65,  54.68,  41.81, -67.48,\n",
            "       -64.52,  -0.23,   4.24,   2.55,  54.6 , -64.55,   2.4 ,  54.62,\n",
            "       -66.89,  55.81,  52.43,  54.67, -64.06, -71.04,  45.61,   0.45],\n",
            "      dtype=float32)>), ('IP', <tf.Tensor: shape=(32,), dtype=float32, numpy=\n",
            "array([ -7.79, -19.83,  94.88,  99.12,  -8.12, -19.52, 104.92, -19.91,\n",
            "       -18.84,  98.42, -18.92, -17.04,  -9.32,  -7.36,  -7.4 , 103.28,\n",
            "       118.5 , -18.61, -20.01, -17.38,  -9.39, 117.58, -19.07,  -8.08,\n",
            "        98.43, -10.02,  -3.16,  -7.27, 117.9 ,  90.25,  -6.89, -19.3 ],\n",
            "      dtype=float32)>), ('MR', <tf.Tensor: shape=(32,), dtype=float32, numpy=\n",
            "array([ 49.59,  -9.04, -53.93, -54.41,  50.72,  -9.52, -54.21,  -9.39,\n",
            "        -6.29, -54.6 , -10.71,  -2.96,  51.22,  50.58,  39.79, -54.05,\n",
            "       -50.27, -10.75,  -2.93,  -5.52,  50.99, -49.91,  -7.75,  50.81,\n",
            "       -54.55,  51.66,  46.84,  50.47, -49.03, -55.95,  44.22,  -9.84],\n",
            "      dtype=float32)>), ('MP', <tf.Tensor: shape=(32,), dtype=float32, numpy=\n",
            "array([  51.19,   37.27,  174.36,  175.34,   51.53,   37.86,  179.29,\n",
            "         37.14,   37.72,  175.41,   38.3 ,   31.42,   51.57,   52.75,\n",
            "         40.08,  177.58, -172.91,   38.62,   36.33,   39.9 ,   52.09,\n",
            "       -173.18,   39.09,   52.43,  175.61,   51.25,   54.92,   52.75,\n",
            "       -172.83,  175.43,   44.71,   37.95], dtype=float32)>), ('RR', <tf.Tensor: shape=(32,), dtype=float32, numpy=\n",
            "array([ 57.29,  -9.58, -58.92, -59.35,  57.59, -10.4 , -58.58,  -9.8 ,\n",
            "        -5.98, -60.  , -11.45,  -3.01,  58.09,  57.69,  44.81, -58.4 ,\n",
            "       -54.03, -11.38,  -3.03,  -5.28,  58.11, -53.6 ,  -8.45,  57.75,\n",
            "       -59.89,  59.91,  55.47,  57.68, -52.44, -58.7 ,  49.74, -10.49],\n",
            "      dtype=float32)>), ('RP', <tf.Tensor: shape=(32,), dtype=float32, numpy=\n",
            "array([ 45.13,  11.32, 122.73, 123.9 ,  44.02,  12.01, 128.48,  11.33,\n",
            "        13.42, 123.26,  12.89,  10.35,  43.83,  45.68,  33.27, 125.42,\n",
            "       136.82,  13.07,  11.71,  15.5 ,  44.33, 136.8 ,  12.61,  44.86,\n",
            "       123.51,  45.42,  50.44,  45.81, 137.56, 122.77,  36.61,  12.2 ],\n",
            "      dtype=float32)>), ('PR', <tf.Tensor: shape=(32,), dtype=float32, numpy=\n",
            "array([ 52.  ,  15.75, -49.26, -49.53,  53.19,  15.5 , -49.34,  15.53,\n",
            "        18.25, -49.56,  14.52,  17.99,  53.32,  53.04,  41.86, -49.15,\n",
            "       -47.52,  14.65,  21.29,  18.73,  53.41, -46.84,  19.77,  53.22,\n",
            "       -49.62,  53.78,  49.42,  52.98, -45.88, -46.51,  46.19,  15.39],\n",
            "      dtype=float32)>), ('PP', <tf.Tensor: shape=(32,), dtype=float32, numpy=\n",
            "array([ 91.72,  62.66, 123.5 , 124.75,  89.22,  62.75, 128.1 ,  62.72,\n",
            "        65.71, 124.45,  63.18,  52.79,  90.52,  92.1 ,  66.89, 126.69,\n",
            "       135.16,  63.33,  61.23,  69.62,  90.44, 134.93,  61.75,  91.36,\n",
            "       124.64,  92.28,  97.63,  92.11, 135.99, 122.51,  74.7 ,  62.73],\n",
            "      dtype=float32)>)])\n"
          ],
          "name": "stdout"
        }
      ]
    },
    {
      "cell_type": "markdown",
      "metadata": {
        "id": "aPyj_587usoZ"
      },
      "source": [
        "In the following graph we can see that from the three letters in the dataset ``A,B,C`` the ``Index Pitch`` and ``Index Roll`` is pretty distinct for all three letters and we can see how they cluster in the graph"
      ]
    },
    {
      "cell_type": "code",
      "metadata": {
        "colab": {
          "base_uri": "https://localhost:8080/",
          "height": 279
        },
        "id": "ou90XTliusoa",
        "outputId": "c8d2421a-ea29-4a44-814f-6063dc673d47"
      },
      "source": [
        "plt.scatter(features['IR'],\n",
        "            features['IP'],\n",
        "            c=labels,\n",
        "            cmap='viridis')\n",
        "\n",
        "plt.xlabel(\"IR\")\n",
        "plt.ylabel(\"IP\")\n",
        "plt.show()"
      ],
      "execution_count": null,
      "outputs": [
        {
          "output_type": "display_data",
          "data": {
            "image/png": "[encoded data removed]",
            "text/plain": [
              "<Figure size 432x288 with 1 Axes>"
            ]
          },
          "metadata": {
            "tags": [],
            "needs_background": "light"
          }
        }
      ]
    },
    {
      "cell_type": "code",
      "metadata": {
        "id": "OdG4A2Vwusoa"
      },
      "source": [
        "def pack_features_vector(features, labels):\n",
        "  \"\"\"Pack the features into a single array.\"\"\"\n",
        "  features = tf.stack(list(features.values()), axis=1)\n",
        "  return features, labels"
      ],
      "execution_count": null,
      "outputs": []
    },
    {
      "cell_type": "code",
      "metadata": {
        "id": "mpng8_IYusoa"
      },
      "source": [
        "train_dataset = train_dataset.map(pack_features_vector)"
      ],
      "execution_count": null,
      "outputs": []
    },
    {
      "cell_type": "code",
      "metadata": {
        "colab": {
          "base_uri": "https://localhost:8080/"
        },
        "id": "oRAdkDoTusob",
        "outputId": "f2bb856f-606e-4ccf-9eee-ea725d84cd6a"
      },
      "source": [
        "features, labels = next(iter(train_dataset))\n",
        "print(labels[:5])\n"
      ],
      "execution_count": null,
      "outputs": [
        {
          "output_type": "stream",
          "text": [
            "tf.Tensor([0 1 1 2 1], shape=(5,), dtype=int32)\n"
          ],
          "name": "stdout"
        }
      ]
    },
    {
      "cell_type": "code",
      "metadata": {
        "id": "9GlyVvgyusob"
      },
      "source": [
        "model = tf.keras.Sequential([\n",
        "  tf.keras.layers.Dense(10, activation=tf.nn.relu, input_shape=(10,)),  # input shape required\n",
        "  tf.keras.layers.Dense(10, activation=tf.nn.relu),\n",
        "  tf.keras.layers.Dense(3)\n",
        "])"
      ],
      "execution_count": null,
      "outputs": []
    },
    {
      "cell_type": "code",
      "metadata": {
        "id": "LvDNdCfuyZkK"
      },
      "source": [
        "model.compile(optimizer='adam',\n",
        "              loss=tf.keras.losses.SparseCategoricalCrossentropy(from_logits=True),\n",
        "              metrics=['accuracy'])"
      ],
      "execution_count": null,
      "outputs": []
    },
    {
      "cell_type": "code",
      "metadata": {
        "colab": {
          "base_uri": "https://localhost:8080/"
        },
        "id": "YlzQNp9Svg6E",
        "outputId": "fe82eaf3-a6d0-4b49-e87b-edacec498c7e"
      },
      "source": [
        "model.fit(train_dataset, epochs=10)"
      ],
      "execution_count": null,
      "outputs": [
        {
          "output_type": "stream",
          "text": [
            "Epoch 1/10\n",
            "94/94 [==============================] - 1s 1ms/step - loss: 10.0138 - accuracy: 0.7468\n",
            "Epoch 2/10\n",
            "94/94 [==============================] - 0s 1ms/step - loss: 0.0310 - accuracy: 0.9924\n",
            "Epoch 3/10\n",
            "94/94 [==============================] - 0s 1ms/step - loss: 0.0126 - accuracy: 0.9972\n",
            "Epoch 4/10\n",
            "94/94 [==============================] - 0s 2ms/step - loss: 0.0059 - accuracy: 0.9985\n",
            "Epoch 5/10\n",
            "94/94 [==============================] - 0s 2ms/step - loss: 0.0049 - accuracy: 0.9985\n",
            "Epoch 6/10\n",
            "94/94 [==============================] - 0s 2ms/step - loss: 0.0068 - accuracy: 0.9981\n",
            "Epoch 7/10\n",
            "94/94 [==============================] - 0s 1ms/step - loss: 0.0055 - accuracy: 0.9988\n",
            "Epoch 8/10\n",
            "94/94 [==============================] - 0s 1ms/step - loss: 0.0038 - accuracy: 0.9989\n",
            "Epoch 9/10\n",
            "94/94 [==============================] - 0s 1ms/step - loss: 0.0011 - accuracy: 0.9998\n",
            "Epoch 10/10\n",
            "94/94 [==============================] - 0s 1ms/step - loss: 0.0023 - accuracy: 0.9989\n"
          ],
          "name": "stdout"
        },
        {
          "output_type": "execute_result",
          "data": {
            "text/plain": [
              "<tensorflow.python.keras.callbacks.History at 0x7fe977e6fc50>"
            ]
          },
          "metadata": {
            "tags": []
          },
          "execution_count": 486
        }
      ]
    },
    {
      "cell_type": "code",
      "metadata": {
        "colab": {
          "base_uri": "https://localhost:8080/"
        },
        "id": "5pO_KUaLwjbV",
        "outputId": "3842e29b-d563-4819-a5f3-bda2b61953f4"
      },
      "source": [
        "model.fit(train_dataset, epochs=1, validation_data=test_dataset)"
      ],
      "execution_count": null,
      "outputs": [
        {
          "output_type": "stream",
          "text": [
            "94/94 [==============================] - 1s 5ms/step - loss: 0.0026 - accuracy: 0.9987 - val_loss: 2.8996 - val_accuracy: 0.9220\n"
          ],
          "name": "stdout"
        },
        {
          "output_type": "execute_result",
          "data": {
            "text/plain": [
              "<tensorflow.python.keras.callbacks.History at 0x7fe97412c4d0>"
            ]
          },
          "metadata": {
            "tags": []
          },
          "execution_count": 487
        }
      ]
    },
    {
      "cell_type": "code",
      "metadata": {
        "colab": {
          "base_uri": "https://localhost:8080/"
        },
        "id": "t_FgY7HBwutx",
        "outputId": "037ec209-ec66-4f25-af63-7a4219aa4fd3"
      },
      "source": [
        "test_loss, test_acc = model.evaluate(test_dataset, verbose=2)\n",
        "\n",
        "print('\\nTest accuracy:', test_acc)"
      ],
      "execution_count": null,
      "outputs": [
        {
          "output_type": "stream",
          "text": [
            "94/94 - 0s - loss: 2.8996 - accuracy: 0.9220\n",
            "\n",
            "Test accuracy: 0.9219740033149719\n"
          ],
          "name": "stdout"
        }
      ]
    },
    {
      "cell_type": "code",
      "metadata": {
        "id": "9rTHu4Z22i3y",
        "colab": {
          "base_uri": "https://localhost:8080/"
        },
        "outputId": "f33c55bd-086b-49d1-94d0-24b86516e9e0"
      },
      "source": [
        "probability_model = tf.keras.Sequential([model, \n",
        "                                         tf.keras.layers.Softmax()])\n",
        "\n",
        "predict_dataset = tf.convert_to_tensor([\n",
        "  [30.46,-158.61,-68.39,-33.79,-86.46,-41.94,-80.56,-31.86,-74.01, 69.72],\n",
        "  [27.03,-31.21, 69.82,-24.28, 58.29, 31.93, 57.70,-18.33, 65.48, 25.95],\n",
        "  [27.12,-30.96, 70.10,-24.35, 58.56, 31.84, 57.90,-18.49, 65.69, 25.66],\n",
        "  [30.46,-158.55,-68.27,-33.75,-86.44,-41.58,-80.51,-31.96,-74.04, 69.61],\n",
        "  [34.34,-152.21,-47.92,-22.47,-58.25,-84.96,-56.01,-14.01,-48.99, 55.52],\n",
        "  [21.08,-110.66, -1.56,-26.44,-12.40, 21.09, -8.19, -9.77,  4.19, 32.25],\n",
        "  [21.10,-110.86, -1.51,-26.74,-12.29, 20.74, -8.12,-10.12,  4.24, 31.96],\n",
        "  [21.12,-110.97, -1.46,-26.95,-12.19, 20.50, -8.02,-10.38,  4.36, 31.72]\n",
        "])\n",
        " \n",
        "predict_labels = [0,1,1,0,0,2,2,2]\n",
        "\n",
        "predictions = probability_model.predict(predict_dataset)\n",
        "\n",
        "# print(predictions)\n",
        "\n",
        "for i, logits in enumerate(predictions):\n",
        "  correct_answer = class_names[predict_labels[i]]\n",
        "  p = max(logits)\n",
        "  class_idx = tf.argmax(logits).numpy()\n",
        "  name = class_names[class_idx]\n",
        "  print(\"Example {} prediction: {} ({:4.1f}%), correct_answer is {}\".format(i, name, 100*p, correct_answer))"
      ],
      "execution_count": null,
      "outputs": [
        {
          "output_type": "stream",
          "text": [
            "WARNING:tensorflow:11 out of the last 11 calls to <function Model.make_predict_function.<locals>.predict_function at 0x7fe977bab680> triggered tf.function retracing. Tracing is expensive and the excessive number of tracings could be due to (1) creating @tf.function repeatedly in a loop, (2) passing tensors with different shapes, (3) passing Python objects instead of tensors. For (1), please define your @tf.function outside of the loop. For (2), @tf.function has experimental_relax_shapes=True option that relaxes argument shapes that can avoid unnecessary retracing. For (3), please refer to https://www.tensorflow.org/guide/function#controlling_retracing and https://www.tensorflow.org/api_docs/python/tf/function for  more details.\n",
            "Example 0 prediction: C (100.0%), correct_answer is A\n",
            "Example 1 prediction: B (100.0%), correct_answer is B\n",
            "Example 2 prediction: B (100.0%), correct_answer is B\n",
            "Example 3 prediction: C (100.0%), correct_answer is A\n",
            "Example 4 prediction: A (70.2%), correct_answer is A\n",
            "Example 5 prediction: C (100.0%), correct_answer is C\n",
            "Example 6 prediction: C (100.0%), correct_answer is C\n",
            "Example 7 prediction: C (100.0%), correct_answer is C\n"
          ],
          "name": "stdout"
        }
      ]
    }
  ]
}